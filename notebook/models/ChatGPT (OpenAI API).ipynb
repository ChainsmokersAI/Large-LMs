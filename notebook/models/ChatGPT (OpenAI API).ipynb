{
 "cells": [
  {
   "cell_type": "markdown",
   "id": "42762bd3",
   "metadata": {},
   "source": [
    "# ChatGPT API Usage (Last Updated: 23.04.09)\n",
    "## gpt-3.5-turbo\n",
    "* pricing: https://openai.com/pricing\n",
    "* model card: https://platform.openai.com/docs/models/gpt-3-5\n",
    "* endpoint: **/v1/chat/completions** (See https://platform.openai.com/docs/guides/chat)"
   ]
  },
  {
   "cell_type": "code",
   "execution_count": 1,
   "id": "487fc846",
   "metadata": {},
   "outputs": [],
   "source": [
    "import os\n",
    "import openai"
   ]
  },
  {
   "cell_type": "code",
   "execution_count": 2,
   "id": "db2e1499",
   "metadata": {},
   "outputs": [],
   "source": [
    "# OpenAI API Key\n",
    "openai.api_key = os.getenv(\"OPENAI_API_KEY\")"
   ]
  },
  {
   "cell_type": "markdown",
   "id": "508a9e74",
   "metadata": {},
   "source": [
    "* API reference: https://platform.openai.com/docs/api-reference/chat"
   ]
  },
  {
   "cell_type": "code",
   "execution_count": 3,
   "id": "45e32fe5",
   "metadata": {},
   "outputs": [],
   "source": [
    "res = openai.ChatCompletion.create(\n",
    "    model=\"gpt-3.5-turbo\",\n",
    "    messages=[\n",
    "        {\"role\": \"user\", \"content\": \"마이멜로디에 대해 소개해줘\"}\n",
    "    ]\n",
    ")"
   ]
  },
  {
   "cell_type": "code",
   "execution_count": 4,
   "id": "7bd3afac",
   "metadata": {},
   "outputs": [
    {
     "data": {
      "text/plain": [
       "'마이멜로디(My Melody)는 일본의 캐릭터 회사 산리오(Sanrio)에서 만들어진 캐릭터입니다. 1975년 처음 등장하였으며, 파란색 모자와 하얀색 코트를 입은 토끼로, 청초하면서도 귀여운 느낌이 인기를 얻고 있습니다.\\n\\n마이멜로디는 태어난 날부터 음악에 미쳐있는 걸음마 아기였다고 합니다. 따라서 음악을 연상시키는 캐릭터이며, 말뭉치 카네기(Sir Thomas Malory, 1405~1471)의 아서왕전(Arthurian legend)에서 유래한 새틀라이트(Satellite)의 긢꼭지처럼 귀여운 디자인이 특징입니다.\\n\\n마이멜로디는 주로 굿즈, 노트, 문구류 등의 제품으로 많이 이용되며, 일본을 비롯한 세계 각지에서 높은 인기를 얻고 있습니다. 추가로, 카페, 뮤지컬, 음반, 영화 등 다양한 분야에서도 사용되고 있습니다.'"
      ]
     },
     "execution_count": 4,
     "metadata": {},
     "output_type": "execute_result"
    }
   ],
   "source": [
    "res.choices[0].message.content"
   ]
  },
  {
   "cell_type": "markdown",
   "id": "ac29113d",
   "metadata": {},
   "source": [
    "## gpt-3.5-turbo-0301"
   ]
  },
  {
   "cell_type": "code",
   "execution_count": 5,
   "id": "22d45e46",
   "metadata": {},
   "outputs": [],
   "source": [
    "res = openai.ChatCompletion.create(\n",
    "    model=\"gpt-3.5-turbo-0301\",\n",
    "    messages=[\n",
    "        {\"role\": \"user\", \"content\": \"마이멜로디에 대해 소개해줘\"}\n",
    "    ]\n",
    ")"
   ]
  },
  {
   "cell_type": "code",
   "execution_count": 6,
   "id": "63ee4ac6",
   "metadata": {},
   "outputs": [
    {
     "data": {
      "text/plain": [
       "'마이멜로디는 무료 음악 제작 프로그램으로, 사용자들은 간단한 인터페이스를 통해 자신만의 고유한 멜로디를 만들 수 있습니다. 이 프로그램은 MIDI 파일을 가져오거나 내보내는 것이 가능하며, 다양한 악기, 드럼, 및 에펙트를 사용하여 멜로디를 자유롭게 편집할 수 있습니다. 또한, 매우 짧은 시간에 멜로디를 만들 수 있도록 보조 기능을 제공하여, 첫번째 사용자들도 쉽게 다가갈 수 있도록 하였습니다. 이 프로그램은 무료이며, 오픈 소스 프로그램으로 개발 및 업데이트가 지속적으로 이루어지고 있습니다.'"
      ]
     },
     "execution_count": 6,
     "metadata": {},
     "output_type": "execute_result"
    }
   ],
   "source": [
    "res.choices[0].message.content"
   ]
  },
  {
   "cell_type": "code",
   "execution_count": null,
   "id": "03276d2d",
   "metadata": {},
   "outputs": [],
   "source": []
  },
  {
   "cell_type": "code",
   "execution_count": null,
   "id": "6b99b137",
   "metadata": {},
   "outputs": [],
   "source": []
  },
  {
   "cell_type": "code",
   "execution_count": null,
   "id": "4404107c",
   "metadata": {},
   "outputs": [],
   "source": []
  }
 ],
 "metadata": {
  "kernelspec": {
   "display_name": "Python 3 (ipykernel)",
   "language": "python",
   "name": "python3"
  },
  "language_info": {
   "codemirror_mode": {
    "name": "ipython",
    "version": 3
   },
   "file_extension": ".py",
   "mimetype": "text/x-python",
   "name": "python",
   "nbconvert_exporter": "python",
   "pygments_lexer": "ipython3",
   "version": "3.10.9"
  }
 },
 "nbformat": 4,
 "nbformat_minor": 5
}
