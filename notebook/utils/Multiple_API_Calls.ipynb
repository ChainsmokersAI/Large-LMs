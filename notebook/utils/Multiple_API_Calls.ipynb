{
 "cells": [
  {
   "cell_type": "markdown",
   "id": "1910d039",
   "metadata": {},
   "source": [
    "# Multiple API Calls\n",
    "* How to make multiple API calls efficiently?\n",
    "* Multiprocessing (Ray) vs Asynchronous (asyncio/aiohttp)\n",
    "* Asynchronous way **is more efficient** than multiprocessing (Check keywords like Asynchronous, Non-Blocking, I/O Bound)"
   ]
  },
  {
   "cell_type": "code",
   "execution_count": 1,
   "id": "b9ce36ef",
   "metadata": {},
   "outputs": [],
   "source": [
    "import os\n",
    "import requests\n",
    "import time"
   ]
  },
  {
   "cell_type": "code",
   "execution_count": 2,
   "id": "3392d193",
   "metadata": {},
   "outputs": [
    {
     "name": "stdout",
     "output_type": "stream",
     "text": [
      "Architecture:        x86_64\r\n",
      "CPU op-mode(s):      32-bit, 64-bit\r\n",
      "Byte Order:          Little Endian\r\n",
      "CPU(s):              4\r\n",
      "On-line CPU(s) list: 0-3\r\n",
      "Thread(s) per core:  2\r\n",
      "Core(s) per socket:  2\r\n",
      "Socket(s):           1\r\n",
      "NUMA node(s):        1\r\n",
      "Vendor ID:           GenuineIntel\r\n",
      "CPU family:          6\r\n",
      "Model:               85\r\n",
      "Model name:          Intel(R) Xeon(R) CPU @ 2.00GHz\r\n",
      "Stepping:            3\r\n",
      "CPU MHz:             2000.144\r\n",
      "BogoMIPS:            4000.28\r\n",
      "Hypervisor vendor:   KVM\r\n",
      "Virtualization type: full\r\n",
      "L1d cache:           32K\r\n",
      "L1i cache:           32K\r\n",
      "L2 cache:            1024K\r\n",
      "L3 cache:            39424K\r\n",
      "NUMA node0 CPU(s):   0-3\r\n",
      "Flags:               fpu vme de pse tsc msr pae mce cx8 apic sep mtrr pge mca cmov pat pse36 clflush mmx fxsr sse sse2 ss ht syscall nx pdpe1gb rdtscp lm constant_tsc rep_good nopl xtopology nonstop_tsc cpuid tsc_known_freq pni pclmulqdq ssse3 fma cx16 pcid sse4_1 sse4_2 x2apic movbe popcnt aes xsave avx f16c rdrand hypervisor lahf_lm abm 3dnowprefetch invpcid_single pti ssbd ibrs ibpb stibp fsgsbase tsc_adjust bmi1 hle avx2 smep bmi2 erms invpcid rtm mpx avx512f avx512dq rdseed adx smap clflushopt clwb avx512cd avx512bw avx512vl xsaveopt xsavec xgetbv1 xsaves arat md_clear arch_capabilities\r\n"
     ]
    }
   ],
   "source": [
    "!lscpu"
   ]
  },
  {
   "cell_type": "markdown",
   "id": "de857932",
   "metadata": {},
   "source": [
    "## One-by-One"
   ]
  },
  {
   "cell_type": "code",
   "execution_count": 2,
   "id": "5ffc384a",
   "metadata": {},
   "outputs": [],
   "source": [
    "def generate_chatgpt(messages, params={}):\n",
    "    # OpenAI API Key\n",
    "    openai_api_key = os.getenv(\"OPENAI_API_KEY\")\n",
    "    \n",
    "    # Request\n",
    "    res = requests.post(\n",
    "        \"https://api.openai.com/v1/chat/completions\",\n",
    "        headers={\n",
    "            \"Authorization\": \"Bearer \"+openai_api_key,\n",
    "            \"Content-Type\": \"application/json\"\n",
    "        },\n",
    "        json={\n",
    "            \"model\": \"gpt-3.5-turbo\",\n",
    "            \"messages\": messages,\n",
    "            **params\n",
    "        }\n",
    "    )\n",
    "    \n",
    "    # Error\n",
    "    if res.status_code != 200:\n",
    "        return res.json()[\"error\"][\"message\"]\n",
    "    \n",
    "    return [msg[\"message\"][\"content\"] for msg in res.json()[\"choices\"]]"
   ]
  },
  {
   "cell_type": "code",
   "execution_count": 3,
   "id": "c11e5ab0",
   "metadata": {},
   "outputs": [],
   "source": [
    "def measure_time(n_calls):\n",
    "    start = time.time()\n",
    "\n",
    "    generations = []\n",
    "    for _ in range(n_calls):\n",
    "        generations.extend(generate_chatgpt(messages=[\n",
    "            {\"role\": \"user\", \"content\": \"마이멜로디에 대해 소개해 줘\"}\n",
    "        ]))\n",
    "\n",
    "    end = time.time()\n",
    "    elapsed_time = end - start\n",
    "\n",
    "    print(len(generations), \"Generations\")\n",
    "    print(\"Execution time:\", elapsed_time, \"seconds\")"
   ]
  },
  {
   "cell_type": "code",
   "execution_count": 4,
   "id": "1819a3ab",
   "metadata": {},
   "outputs": [
    {
     "name": "stdout",
     "output_type": "stream",
     "text": [
      "1 Generations\n",
      "Execution time: 19.57789921760559 seconds\n"
     ]
    }
   ],
   "source": [
    "measure_time(n_calls=1)"
   ]
  },
  {
   "cell_type": "code",
   "execution_count": 5,
   "id": "9cb26b83",
   "metadata": {},
   "outputs": [
    {
     "name": "stdout",
     "output_type": "stream",
     "text": [
      "3 Generations\n",
      "Execution time: 49.191596031188965 seconds\n"
     ]
    }
   ],
   "source": [
    "measure_time(n_calls=3)"
   ]
  },
  {
   "cell_type": "code",
   "execution_count": 6,
   "id": "0069bedc",
   "metadata": {},
   "outputs": [
    {
     "name": "stdout",
     "output_type": "stream",
     "text": [
      "8 Generations\n",
      "Execution time: 144.65509366989136 seconds\n"
     ]
    }
   ],
   "source": [
    "measure_time(n_calls=8)"
   ]
  },
  {
   "cell_type": "code",
   "execution_count": 7,
   "id": "a178632d",
   "metadata": {},
   "outputs": [
    {
     "name": "stdout",
     "output_type": "stream",
     "text": [
      "16 Generations\n",
      "Execution time: 349.0199410915375 seconds\n"
     ]
    }
   ],
   "source": [
    "measure_time(n_calls=16)"
   ]
  },
  {
   "cell_type": "markdown",
   "id": "06840b02",
   "metadata": {},
   "source": [
    "## Multiprocessing with Ray\n",
    "* Ray Core documentation: https://docs.ray.io/en/latest/ray-core/walkthrough.html"
   ]
  },
  {
   "cell_type": "code",
   "execution_count": 2,
   "id": "408f363d",
   "metadata": {},
   "outputs": [
    {
     "name": "stderr",
     "output_type": "stream",
     "text": [
      "2023-04-23 15:02:52,053\tINFO worker.py:1553 -- Started a local Ray instance.\n"
     ]
    },
    {
     "data": {
      "text/html": [
       "<div>\n",
       "    <div style=\"margin-left: 50px;display: flex;flex-direction: row;align-items: center\">\n",
       "        <h3 style=\"color: var(--jp-ui-font-color0)\">Ray</h3>\n",
       "        <svg version=\"1.1\" id=\"ray\" width=\"3em\" viewBox=\"0 0 144.5 144.6\" style=\"margin-left: 3em;margin-right: 3em\">\n",
       "            <g id=\"layer-1\">\n",
       "                <path fill=\"#00a2e9\" class=\"st0\" d=\"M97.3,77.2c-3.8-1.1-6.2,0.9-8.3,5.1c-3.5,6.8-9.9,9.9-17.4,9.6S58,88.1,54.8,81.2c-1.4-3-3-4-6.3-4.1\n",
       "                    c-5.6-0.1-9.9,0.1-13.1,6.4c-3.8,7.6-13.6,10.2-21.8,7.6C5.2,88.4-0.4,80.5,0,71.7c0.1-8.4,5.7-15.8,13.8-18.2\n",
       "                    c8.4-2.6,17.5,0.7,22.3,8c1.3,1.9,1.3,5.2,3.6,5.6c3.9,0.6,8,0.2,12,0.2c1.8,0,1.9-1.6,2.4-2.8c3.5-7.8,9.7-11.8,18-11.9\n",
       "                    c8.2-0.1,14.4,3.9,17.8,11.4c1.3,2.8,2.9,3.6,5.7,3.3c1-0.1,2,0.1,3,0c2.8-0.5,6.4,1.7,8.1-2.7s-2.3-5.5-4.1-7.5\n",
       "                    c-5.1-5.7-10.9-10.8-16.1-16.3C84,38,81.9,37.1,78,38.3C66.7,42,56.2,35.7,53,24.1C50.3,14,57.3,2.8,67.7,0.5\n",
       "                    C78.4-2,89,4.7,91.5,15.3c0.1,0.3,0.1,0.5,0.2,0.8c0.7,3.4,0.7,6.9-0.8,9.8c-1.7,3.2-0.8,5,1.5,7.2c6.7,6.5,13.3,13,19.8,19.7\n",
       "                    c1.8,1.8,3,2.1,5.5,1.2c9.1-3.4,17.9-0.6,23.4,7c4.8,6.9,4.6,16.1-0.4,22.9c-5.4,7.2-14.2,9.9-23.1,6.5c-2.3-0.9-3.5-0.6-5.1,1.1\n",
       "                    c-6.7,6.9-13.6,13.7-20.5,20.4c-1.8,1.8-2.5,3.2-1.4,5.9c3.5,8.7,0.3,18.6-7.7,23.6c-7.9,5-18.2,3.8-24.8-2.9\n",
       "                    c-6.4-6.4-7.4-16.2-2.5-24.3c4.9-7.8,14.5-11,23.1-7.8c3,1.1,4.7,0.5,6.9-1.7C91.7,98.4,98,92.3,104.2,86c1.6-1.6,4.1-2.7,2.6-6.2\n",
       "                    c-1.4-3.3-3.8-2.5-6.2-2.6C99.8,77.2,98.9,77.2,97.3,77.2z M72.1,29.7c5.5,0.1,9.9-4.3,10-9.8c0-0.1,0-0.2,0-0.3\n",
       "                    C81.8,14,77,9.8,71.5,10.2c-5,0.3-9,4.2-9.3,9.2c-0.2,5.5,4,10.1,9.5,10.3C71.8,29.7,72,29.7,72.1,29.7z M72.3,62.3\n",
       "                    c-5.4-0.1-9.9,4.2-10.1,9.7c0,0.2,0,0.3,0,0.5c0.2,5.4,4.5,9.7,9.9,10c5.1,0.1,9.9-4.7,10.1-9.8c0.2-5.5-4-10-9.5-10.3\n",
       "                    C72.6,62.3,72.4,62.3,72.3,62.3z M115,72.5c0.1,5.4,4.5,9.7,9.8,9.9c5.6-0.2,10-4.8,10-10.4c-0.2-5.4-4.6-9.7-10-9.7\n",
       "                    c-5.3-0.1-9.8,4.2-9.9,9.5C115,72.1,115,72.3,115,72.5z M19.5,62.3c-5.4,0.1-9.8,4.4-10,9.8c-0.1,5.1,5.2,10.4,10.2,10.3\n",
       "                    c5.6-0.2,10-4.9,9.8-10.5c-0.1-5.4-4.5-9.7-9.9-9.6C19.6,62.3,19.5,62.3,19.5,62.3z M71.8,134.6c5.9,0.2,10.3-3.9,10.4-9.6\n",
       "                    c0.5-5.5-3.6-10.4-9.1-10.8c-5.5-0.5-10.4,3.6-10.8,9.1c0,0.5,0,0.9,0,1.4c-0.2,5.3,4,9.8,9.3,10\n",
       "                    C71.6,134.6,71.7,134.6,71.8,134.6z\"/>\n",
       "            </g>\n",
       "        </svg>\n",
       "        <table>\n",
       "            <tr>\n",
       "                <td style=\"text-align: left\"><b>Python version:</b></td>\n",
       "                <td style=\"text-align: left\"><b>3.10.9</b></td>\n",
       "            </tr>\n",
       "            <tr>\n",
       "                <td style=\"text-align: left\"><b>Ray version:</b></td>\n",
       "                <td style=\"text-align: left\"><b> 2.3.1</b></td>\n",
       "            </tr>\n",
       "            \n",
       "        </table>\n",
       "    </div>\n",
       "</div>\n"
      ],
      "text/plain": [
       "RayContext(dashboard_url='', python_version='3.10.9', ray_version='2.3.1', ray_commit='5f14cee8dfc6d61ec4fd3bc2c440f9944e92b33a', address_info={'node_ip_address': '172.17.0.2', 'raylet_ip_address': '172.17.0.2', 'redis_address': None, 'object_store_address': '/tmp/ray/session_2023-04-23_15-02-50_064946_22873/sockets/plasma_store', 'raylet_socket_name': '/tmp/ray/session_2023-04-23_15-02-50_064946_22873/sockets/raylet', 'webui_url': '', 'session_dir': '/tmp/ray/session_2023-04-23_15-02-50_064946_22873', 'metrics_export_port': 58947, 'gcs_address': '172.17.0.2:59740', 'address': '172.17.0.2:59740', 'dashboard_agent_listen_port': 52365, 'node_id': '40f9e70769dea5cc9ce5d696ac7f2b4611396c0b429c1841f171dc2a'})"
      ]
     },
     "execution_count": 2,
     "metadata": {},
     "output_type": "execute_result"
    }
   ],
   "source": [
    "import ray\n",
    "\n",
    "ray.init()"
   ]
  },
  {
   "cell_type": "code",
   "execution_count": 3,
   "id": "60dda672",
   "metadata": {},
   "outputs": [],
   "source": [
    "@ray.remote\n",
    "def generate_chatgpt(messages, params={}):\n",
    "    # OpenAI API Key\n",
    "    openai_api_key = os.getenv(\"OPENAI_API_KEY\")\n",
    "    \n",
    "    # Request\n",
    "    res = requests.post(\n",
    "        \"https://api.openai.com/v1/chat/completions\",\n",
    "        headers={\n",
    "            \"Authorization\": \"Bearer \"+openai_api_key,\n",
    "            \"Content-Type\": \"application/json\"\n",
    "        },\n",
    "        json={\n",
    "            \"model\": \"gpt-3.5-turbo\",\n",
    "            \"messages\": messages,\n",
    "            **params\n",
    "        }\n",
    "    )\n",
    "    \n",
    "    # Error\n",
    "    if res.status_code != 200:\n",
    "        return res.json()[\"error\"][\"message\"]\n",
    "    \n",
    "    return [msg[\"message\"][\"content\"] for msg in res.json()[\"choices\"]]"
   ]
  },
  {
   "cell_type": "code",
   "execution_count": 4,
   "id": "b308fe66",
   "metadata": {},
   "outputs": [],
   "source": [
    "def measure_time(n_calls):\n",
    "    start = time.time()\n",
    "\n",
    "    generations = []\n",
    "    for _ in range(n_calls):\n",
    "        generations.append(generate_chatgpt.remote(messages=[\n",
    "            {\"role\": \"user\", \"content\": \"마이멜로디에 대해 소개해 줘\"}\n",
    "        ]))\n",
    "    generations = ray.get(generations)\n",
    "\n",
    "    end = time.time()\n",
    "    elapsed_time = end - start\n",
    "\n",
    "    print(len(generations), \"Generations\")\n",
    "    print(\"Execution time:\", elapsed_time, \"seconds\")"
   ]
  },
  {
   "cell_type": "code",
   "execution_count": 5,
   "id": "a13c407c",
   "metadata": {},
   "outputs": [
    {
     "name": "stdout",
     "output_type": "stream",
     "text": [
      "1 Generations\n",
      "Execution time: 19.4450044631958 seconds\n"
     ]
    }
   ],
   "source": [
    "measure_time(n_calls=1)"
   ]
  },
  {
   "cell_type": "code",
   "execution_count": 6,
   "id": "b6482b71",
   "metadata": {},
   "outputs": [
    {
     "name": "stdout",
     "output_type": "stream",
     "text": [
      "3 Generations\n",
      "Execution time: 21.497418642044067 seconds\n"
     ]
    }
   ],
   "source": [
    "measure_time(n_calls=3)"
   ]
  },
  {
   "cell_type": "code",
   "execution_count": 7,
   "id": "c3a31edf",
   "metadata": {},
   "outputs": [
    {
     "name": "stdout",
     "output_type": "stream",
     "text": [
      "8 Generations\n",
      "Execution time: 44.92633819580078 seconds\n"
     ]
    }
   ],
   "source": [
    "measure_time(n_calls=8)"
   ]
  },
  {
   "cell_type": "code",
   "execution_count": 8,
   "id": "57ffa6ba",
   "metadata": {},
   "outputs": [
    {
     "name": "stdout",
     "output_type": "stream",
     "text": [
      "16 Generations\n",
      "Execution time: 104.43220949172974 seconds\n"
     ]
    }
   ],
   "source": [
    "measure_time(n_calls=16)"
   ]
  },
  {
   "cell_type": "code",
   "execution_count": 9,
   "id": "484ad5b6",
   "metadata": {},
   "outputs": [
    {
     "name": "stdout",
     "output_type": "stream",
     "text": [
      "100 Generations\n",
      "Execution time: 521.1891481876373 seconds\n"
     ]
    }
   ],
   "source": [
    "measure_time(n_calls=100)"
   ]
  },
  {
   "cell_type": "code",
   "execution_count": 10,
   "id": "8a6f48b5",
   "metadata": {},
   "outputs": [],
   "source": [
    "ray.shutdown()"
   ]
  },
  {
   "cell_type": "markdown",
   "id": "f0b46a98",
   "metadata": {},
   "source": [
    "## Asynchronous with asyncio/aiohttp\n",
    "* asyncio documentation: https://docs.python.org/3/library/asyncio.html\n",
    "* aiohttp documentation: https://docs.aiohttp.org/en/stable/"
   ]
  },
  {
   "cell_type": "code",
   "execution_count": 2,
   "id": "d5ce2c53",
   "metadata": {},
   "outputs": [],
   "source": [
    "import asyncio\n",
    "import aiohttp\n",
    "import nest_asyncio\n",
    "\n",
    "# For Running on Jupyter\n",
    "nest_asyncio.apply()"
   ]
  },
  {
   "cell_type": "code",
   "execution_count": 3,
   "id": "0a1a7efb",
   "metadata": {},
   "outputs": [],
   "source": [
    "async def generate_chatgpt(messages, params={}):\n",
    "    # Headers\n",
    "    headers = {\n",
    "        # OpenAI API Key\n",
    "        \"Authorization\": \"Bearer \"+os.getenv(\"OPENAI_API_KEY\"),\n",
    "        \"Content-Type\": \"application/json\"\n",
    "    }\n",
    "    \n",
    "    # Data\n",
    "    data = {\n",
    "        \"model\": \"gpt-3.5-turbo\",\n",
    "        \"messages\": messages,\n",
    "        **params\n",
    "    }\n",
    "    \n",
    "    async with aiohttp.ClientSession(headers=headers) as session:\n",
    "        async with session.post(\"https://api.openai.com/v1/chat/completions\", json=data) as res:\n",
    "            result = await res.json()\n",
    "            \n",
    "            # Error\n",
    "            if res.status != 200:\n",
    "                return result[\"error\"][\"message\"]\n",
    "            \n",
    "            return [msg[\"message\"][\"content\"] for msg in result[\"choices\"]]"
   ]
  },
  {
   "cell_type": "code",
   "execution_count": 4,
   "id": "d334c905",
   "metadata": {},
   "outputs": [],
   "source": [
    "async def main(n_calls):\n",
    "    messages = [{\"role\": \"user\", \"content\": \"마이멜로디에 대해 소개해 줘\"}]\n",
    "    \n",
    "    tasks = [asyncio.create_task(generate_chatgpt(messages=messages)) for _ in range(n_calls)]\n",
    "    \n",
    "    generations = await asyncio.gather(*tasks)\n",
    "    \n",
    "    return generations"
   ]
  },
  {
   "cell_type": "code",
   "execution_count": 5,
   "id": "ff00e0fa",
   "metadata": {},
   "outputs": [],
   "source": [
    "def measure_time(n_calls):\n",
    "    start = time.time()\n",
    "\n",
    "    generations = asyncio.run(main(n_calls=n_calls))\n",
    "\n",
    "    end = time.time()\n",
    "    elapsed_time = end - start\n",
    "\n",
    "    print(len(generations), \"Generations\")\n",
    "    print(\"Execution time:\", elapsed_time, \"seconds\")"
   ]
  },
  {
   "cell_type": "code",
   "execution_count": 6,
   "id": "9b3ddb2e",
   "metadata": {},
   "outputs": [
    {
     "name": "stdout",
     "output_type": "stream",
     "text": [
      "1 Generations\n",
      "Execution time: 17.0317063331604 seconds\n"
     ]
    }
   ],
   "source": [
    "measure_time(n_calls=1)"
   ]
  },
  {
   "cell_type": "code",
   "execution_count": 7,
   "id": "b9df88e6",
   "metadata": {},
   "outputs": [
    {
     "name": "stdout",
     "output_type": "stream",
     "text": [
      "3 Generations\n",
      "Execution time: 19.35207772254944 seconds\n"
     ]
    }
   ],
   "source": [
    "measure_time(n_calls=3)"
   ]
  },
  {
   "cell_type": "code",
   "execution_count": 8,
   "id": "8138ccb2",
   "metadata": {},
   "outputs": [
    {
     "name": "stdout",
     "output_type": "stream",
     "text": [
      "8 Generations\n",
      "Execution time: 29.192562580108643 seconds\n"
     ]
    }
   ],
   "source": [
    "measure_time(n_calls=8)"
   ]
  },
  {
   "cell_type": "code",
   "execution_count": 9,
   "id": "6dfd0cb2",
   "metadata": {},
   "outputs": [
    {
     "name": "stdout",
     "output_type": "stream",
     "text": [
      "16 Generations\n",
      "Execution time: 38.55629849433899 seconds\n"
     ]
    }
   ],
   "source": [
    "measure_time(n_calls=16)"
   ]
  },
  {
   "cell_type": "code",
   "execution_count": 10,
   "id": "8acda227",
   "metadata": {},
   "outputs": [
    {
     "name": "stdout",
     "output_type": "stream",
     "text": [
      "100 Generations\n",
      "Execution time: 47.21856093406677 seconds\n"
     ]
    }
   ],
   "source": [
    "measure_time(n_calls=100)"
   ]
  },
  {
   "cell_type": "code",
   "execution_count": null,
   "id": "4dbf2933",
   "metadata": {},
   "outputs": [],
   "source": []
  },
  {
   "cell_type": "code",
   "execution_count": null,
   "id": "5ea8f13d",
   "metadata": {},
   "outputs": [],
   "source": []
  },
  {
   "cell_type": "code",
   "execution_count": null,
   "id": "6100148f",
   "metadata": {},
   "outputs": [],
   "source": []
  }
 ],
 "metadata": {
  "kernelspec": {
   "display_name": "Python 3 (ipykernel)",
   "language": "python",
   "name": "python3"
  },
  "language_info": {
   "codemirror_mode": {
    "name": "ipython",
    "version": 3
   },
   "file_extension": ".py",
   "mimetype": "text/x-python",
   "name": "python",
   "nbconvert_exporter": "python",
   "pygments_lexer": "ipython3",
   "version": "3.10.9"
  }
 },
 "nbformat": 4,
 "nbformat_minor": 5
}
