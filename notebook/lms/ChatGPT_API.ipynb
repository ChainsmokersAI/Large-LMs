{
 "cells": [
  {
   "cell_type": "markdown",
   "id": "de2ad766",
   "metadata": {},
   "source": [
    "# ChatGPT API Usage (Last Updated: 23.04.23)\n",
    "## gpt-3.5-turbo\n",
    "* model card: https://platform.openai.com/docs/models/gpt-3-5\n",
    "* endpoint: **/v1/chat/completions** (Check [compatibility](https://platform.openai.com/docs/models/model-endpoint-compatibility) and [documentation](https://platform.openai.com/docs/guides/chat))\n",
    "* reference: https://platform.openai.com/docs/api-reference/chat/create\n",
    "* pricing: **$0.002 / 1K tokens** (Check [pricing policy](https://openai.com/pricing))"
   ]
  },
  {
   "cell_type": "markdown",
   "id": "50fa7449",
   "metadata": {},
   "source": [
    "### Using Requests Library"
   ]
  },
  {
   "cell_type": "code",
   "execution_count": 1,
   "id": "a332d53a",
   "metadata": {},
   "outputs": [],
   "source": [
    "import os\n",
    "import requests"
   ]
  },
  {
   "cell_type": "code",
   "execution_count": 2,
   "id": "dbb00a51",
   "metadata": {},
   "outputs": [],
   "source": [
    "def generate_chatgpt(messages, params={}):\n",
    "    # OpenAI API Key\n",
    "    openai_api_key = os.getenv(\"OPENAI_API_KEY\")\n",
    "    \n",
    "    # Request\n",
    "    res = requests.post(\n",
    "        \"https://api.openai.com/v1/chat/completions\",\n",
    "        headers={\n",
    "            \"Authorization\": \"Bearer \"+openai_api_key,\n",
    "            \"Content-Type\": \"application/json\"\n",
    "        },\n",
    "        json={\n",
    "            \"model\": \"gpt-3.5-turbo\",\n",
    "            \"messages\": messages,\n",
    "            **params\n",
    "        }\n",
    "    )\n",
    "    \n",
    "    # Error\n",
    "    if res.status_code != 200:\n",
    "        return res.json()[\"error\"][\"message\"]\n",
    "    \n",
    "    return [msg[\"message\"][\"content\"] for msg in res.json()[\"choices\"]]"
   ]
  },
  {
   "cell_type": "code",
   "execution_count": 3,
   "id": "477a2129",
   "metadata": {},
   "outputs": [
    {
     "name": "stdout",
     "output_type": "stream",
     "text": [
      "===\n",
      "마이멜로디는 음악 스트리밍 서비스입니다. 사용자는 마이멜로디에서 음악을 검색하고 스트리밍하며, 개인적인 노래 저장 목록을 만들어 관리할 수 있습니다. 또한, 마이멜로디는 사용자의 선호도에 따라 추천 음악을 제공하며, 다양한 장르와 아티스트의 음악을 즐길 수 있습니다. 마이멜로디는 PC 및 모바일 기기에서 모두 이용 가능하며, 유료 및 무료 서비스를 제공합니다.\n",
      "===\n",
      "마이멜로디는 음악 스트리밍 서비스로, 사용자들이 수백만 곡의 음악을 무제한으로 들을 수 있습니다. 이 서비스는 사용자의 취향에 맞는 추천 플레이리스트, 라디오, 앨범, 아티스트 등을 제공하며, 또한 오프라인으로 음악을 들을 수 있는 다운로드 기능도 제공합니다. 또한 사용자들은 자신이 듣는 음악을 공유하고, 친구들과 함께 플레이리스트를 만들 수도 있습니다. 마이멜로디는 광고 없이 구독료를 지불하면 광고 없이 무제한으로 음악을 들을 수 있는 프리미엄 서비스도 제공하고 있습니다.\n",
      "===\n",
      "마이멜로디는 음악 플랫폼 중 하나로, 사용자가 좋아하는 음악을 검색하고 스트리밍 할 수 있는 서비스입니다. 사용자는 자신의 계정을 만들어 개인적인 플레이리스트를 만들거나, 다른 사용자들이 만든 플레이리스트를 검색하고 이용할 수 있습니다. 또한 마이멜로디는 다양한 음악 장르와 아티스트를 제공하며, 무료로 이용할 수 있는 노래도 많습니다. 마이멜로디는 PC, 모바일 앱 등에서 이용할 수 있습니다.\n"
     ]
    }
   ],
   "source": [
    "# Single Conversation\n",
    "generations = generate_chatgpt(\n",
    "    messages=[\n",
    "        {\"role\": \"user\", \"content\": \"마이멜로디에 대해 소개해 줘\"}\n",
    "    ],\n",
    "    params={\n",
    "        \"top_p\": 0.85,\n",
    "        \"n\": 3\n",
    "    }\n",
    ")\n",
    "\n",
    "for gen in generations:\n",
    "    print(\"===\")\n",
    "    print(gen)"
   ]
  },
  {
   "cell_type": "code",
   "execution_count": 4,
   "id": "c6486084",
   "metadata": {},
   "outputs": [
    {
     "name": "stdout",
     "output_type": "stream",
     "text": [
      "===\n",
      "마이멜로디는 산리오(Sanrio)에서 만든 캐릭터 중 하나로, 음악과 리듬을 좋아하는 핑크색 고양이입니다. 마이멜로디는 키보드 혹은 기타를 연주하면서 노래를 부르는 것을 좋아하며, 항상 즐거운 음악으로 사람들을 웃게 합니다. 마이멜로디의 친구들에는 코끼리 모모, 고양이 샴므르, 햄스터 리스, 토끼 리마, 개 부트 등이 있습니다. 마이멜로디는 여러 가지 굿즈와 제품들이 출시되어 있어, 다양한 산리오 캐릭터들 중에서도 인기 있는 캐릭터 중 하나입니다.\n",
      "===\n",
      "마이멜로디는 산리오에서 만들어진 캐릭터 중 하나입니다. 마이멜로디는 음악을 좋아하는 고양이로, 항상 기타를 연주하고 노래를 부르며 즐겁게 시간을 보내고 있습니다. 마이멜로디는 우정과 사랑, 그리고 꿈을 표현하는 캐릭터로, 산리오의 다른 캐릭터들과 함께 다양한 이야기를 전달합니다. 이 캐릭터는 다양한 굿즈와 제품으로도 유명하며, 산리오 캐릭터 중에서도 많은 팬층을 보유하고 있습니다.\n",
      "===\n",
      "마이멜로디(My Melody)는 일본의 산리오 회사에서 만든 캐릭터 중 하나로, 로즈(장미)의 나라에서 태어난 백토쟁이인 마이멜로디는 우호적이고 선량한 성격을 가진 캐릭터입니다. 빵 만들기와 음악에 능숙하며, 어린 아이들 사이에서 인기가 많은 캐릭터 중 하나입니다. 마이멜로디의 대표적인 특징은 큰 귀와 머리에 달린 분홍색 보타이입니다.\n"
     ]
    }
   ],
   "source": [
    "# Multiple Conversations\n",
    "generations = generate_chatgpt(\n",
    "    messages=[\n",
    "        {\"role\": \"user\", \"content\": \"마이멜로디에 대해 소개해 줘\"},\n",
    "        {\"role\": \"assistant\", \"content\": \"언급하신 마이멜로디는 음악 서비스인가요? 캐릭터인가요?\"},\n",
    "        {\"role\": \"user\", \"content\": \"산리오 캐릭터야\"}\n",
    "    ],\n",
    "    params={\n",
    "        \"top_p\": 0.85,\n",
    "        \"n\": 3\n",
    "    }\n",
    ")\n",
    "\n",
    "for gen in generations:\n",
    "    print(\"===\")\n",
    "    print(gen)"
   ]
  },
  {
   "cell_type": "markdown",
   "id": "4680f72c",
   "metadata": {},
   "source": [
    "### Using OpenAI Library"
   ]
  },
  {
   "cell_type": "code",
   "execution_count": 5,
   "id": "3d264d3e",
   "metadata": {},
   "outputs": [],
   "source": [
    "import os\n",
    "import openai"
   ]
  },
  {
   "cell_type": "code",
   "execution_count": 6,
   "id": "fc2b4fea",
   "metadata": {},
   "outputs": [],
   "source": [
    "def generate_chatgpt(messages, params={}):\n",
    "    # OpenAI API Key\n",
    "    openai.api_key = os.getenv(\"OPENAI_API_KEY\")\n",
    "    \n",
    "    try:\n",
    "        # Request\n",
    "        res = openai.ChatCompletion.create(\n",
    "            model=\"gpt-3.5-turbo\",\n",
    "            messages=messages,\n",
    "            **params\n",
    "        )\n",
    "    except Exception as e:\n",
    "        # Error\n",
    "        return e\n",
    "    \n",
    "    return [msg.message.content for msg in res.choices]"
   ]
  },
  {
   "cell_type": "code",
   "execution_count": 7,
   "id": "439f1999",
   "metadata": {},
   "outputs": [
    {
     "name": "stdout",
     "output_type": "stream",
     "text": [
      "===\n",
      "마이멜로디는 음악 관련 서비스를 제공하는 한국의 회사입니다. 마이멜로디는 음원 다운로드, 음악 스트리밍, 뮤직 비디오, 라이브 방송, 음악 티켓 예매 등 다양한 음악 관련 서비스를 제공하고 있습니다. 또한, 마이멜로디는 음악 차트, 뮤직 랭킹, 실시간 차트 등 다양한 음악 정보를 제공하고 있어 음악 팬들에게는 꼭 필요한 서비스입니다. 마이멜로디는 모바일 앱과 웹 사이트를 통해 서비스를 제공하고 있으며, 유저들은 다양한 음악을 즐기고 소셜 기능을 통해 다른 음악 팬들과 소통할 수 있습니다.\n",
      "===\n",
      "마이멜로디는 음악 스트리밍 서비스로, 사용자들이 인기 있는 음악을 듣고, 저장하고, 공유할 수 있는 플랫폼입니다. 마이멜로디는 다양한 장르의 음악을 제공하며, 사용자들은 개인적인 취향에 맞게 음악을 검색하고 추천 받을 수 있습니다. 또한 마이멜로디는 사용자들이 자신의 음악 취향을 기반으로 한 맞춤형 플레이리스트를 제공하고, 이를 기반으로 한 라디오 서비스도 제공합니다. 마이멜로디는 무료와 유료 버전이 있으며, 유료 버전은 광고 없이 음악을 감상할 수 있고, 다운로드 및 오프라인 재생이 가능합니다.\n",
      "===\n",
      "마이멜로디는 음악 스트리밍 서비스 중 하나로, 한국에서 운영되는 서비스입니다. 유료/무료로 제공되며, 다양한 장르의 음악을 제공합니다. 마이멜로디는 개인 맞춤형 추천 기능이 강점으로, 사용자의 취향에 맞는 음악을 추천해줍니다. 또한, 사용자가 만든 플레이리스트를 공유할 수 있으며, 다른 사용자들의 플레이리스트도 쉽게 검색하여 들을 수 있습니다. 마이멜로디는 PC와 모바일 앱에서 이용이 가능하며, 이용자들은 곡을 검색하고, 재생, 일시정지, 다운로드 등의 기능을 이용할 수 있습니다.\n"
     ]
    }
   ],
   "source": [
    "# Single Conversation\n",
    "generations = generate_chatgpt(\n",
    "    messages=[\n",
    "        {\"role\": \"user\", \"content\": \"마이멜로디에 대해 소개해 줘\"}\n",
    "    ],\n",
    "    params={\n",
    "        \"top_p\": 0.85,\n",
    "        \"n\": 3\n",
    "    }\n",
    ")\n",
    "\n",
    "for gen in generations:\n",
    "    print(\"===\")\n",
    "    print(gen)"
   ]
  },
  {
   "cell_type": "code",
   "execution_count": 8,
   "id": "b33ec942",
   "metadata": {},
   "outputs": [
    {
     "name": "stdout",
     "output_type": "stream",
     "text": [
      "===\n",
      "알겠습니다. 마이멜로디는 산리오(Sanrio)에서 만든 캐릭터 중 하나입니다. 마이멜로디는 하얀 토끼 모양의 귀여운 캐릭터로, 핑크색 머리띠와 하트 모양의 귀가 특징입니다. 마이멜로디는 음악을 좋아하며, 노래를 부르는 것을 즐기는 캐릭터입니다. 또한, 그녀의 집은 음악 상자로 만들어져 있습니다. 마이멜로디는 많은 사람들에게 사랑받는 캐릭터 중 하나입니다.\n",
      "===\n",
      "마이멜로디는 산리오(Sanrio)사에서 만든 캐릭터 중 하나로, 뮤지컬을 좋아하는 여자 아이돌 그룹입니다. 그룹 멤버로는 마이멜로디(Mymelody), 커트리놀라(Cinnamoroll), 헬로키티(Hello Kitty), 레이스(Lease), 파피유(Pompompurin) 등이 있습니다. 마이멜로디는 분홍색 모자와 달빛 모양의 별이 그려진 바디 슈트를 입은 귀여운 캐릭터로, 음악과 댄스를 좋아하며, 팬들을 위해 항상 노력하는 열정적인 아이돌입니다.\n",
      "===\n",
      "마이멜로디(My Melody)는 산리오(Sanrio)에서 만든 일본의 인기 캐릭터 중 하나입니다. 1975년에 탄생한 마이멜로디는 귀여운 토끼 모양의 캐릭터로, 핑크색의 머리띠를 쓰고 있으며, 양쪽 귀에 붙은 큰 귀마개가 특징입니다. 또한, 깜찍한 미소와 달콤한 음악을 좋아하는 등의 개성적인 취향을 가지고 있습니다. 마이멜로디는 다양한 굿즈와 캐릭터 상품으로 인기를 얻고 있습니다.\n"
     ]
    }
   ],
   "source": [
    "# Multiple Conversations\n",
    "generations = generate_chatgpt(\n",
    "    messages=[\n",
    "        {\"role\": \"user\", \"content\": \"마이멜로디에 대해 소개해 줘\"},\n",
    "        {\"role\": \"assistant\", \"content\": \"언급하신 마이멜로디는 음악 서비스인가요? 캐릭터인가요?\"},\n",
    "        {\"role\": \"user\", \"content\": \"산리오 캐릭터야\"}\n",
    "    ],\n",
    "    params={\n",
    "        \"top_p\": 0.85,\n",
    "        \"n\": 3\n",
    "    }\n",
    ")\n",
    "\n",
    "for gen in generations:\n",
    "    print(\"===\")\n",
    "    print(gen)"
   ]
  },
  {
   "cell_type": "code",
   "execution_count": null,
   "id": "bf6d6414",
   "metadata": {},
   "outputs": [],
   "source": []
  },
  {
   "cell_type": "code",
   "execution_count": null,
   "id": "d83d0011",
   "metadata": {},
   "outputs": [],
   "source": []
  },
  {
   "cell_type": "code",
   "execution_count": null,
   "id": "4fffb358",
   "metadata": {},
   "outputs": [],
   "source": []
  }
 ],
 "metadata": {
  "kernelspec": {
   "display_name": "Python 3 (ipykernel)",
   "language": "python",
   "name": "python3"
  },
  "language_info": {
   "codemirror_mode": {
    "name": "ipython",
    "version": 3
   },
   "file_extension": ".py",
   "mimetype": "text/x-python",
   "name": "python",
   "nbconvert_exporter": "python",
   "pygments_lexer": "ipython3",
   "version": "3.10.9"
  }
 },
 "nbformat": 4,
 "nbformat_minor": 5
}
